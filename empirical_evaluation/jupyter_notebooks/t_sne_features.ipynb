{
 "cells": [
  {
   "cell_type": "markdown",
   "source": [
    "# $\\texttt{dopanim}$: $t$-SNE Plot from a Fine-tuned DINOv2 ViT-S/14"
   ],
   "metadata": {
    "collapsed": false
   },
   "id": "22e86507ea741bb"
  },
  {
   "cell_type": "code",
   "execution_count": null,
   "outputs": [],
   "source": [
    "import torch\n",
    "import os\n",
    "import torch.nn as nn \n",
    "import numpy as np\n",
    "import matplotlib.pyplot as plt\n",
    "import sys\n",
    "\n",
    "# TODO: Append the path to your `multi-annotator-machine-learning` project.\n",
    "sys.path.append(\"../../\")\n",
    "\n",
    "from maml.data import Dopanim\n",
    "from matplotlib.colors import to_rgba\n",
    "from sklearn.manifold import TSNE\n",
    "from torch.utils.data import DataLoader\n",
    "from torchvision import transforms\n",
    "from tqdm import tqdm \n",
    "from lightning import seed_everything\n",
    "\n",
    "\n",
    "# TODO: Adjust data path to your dataset.\n",
    "DATA_PATH = \".\"\n",
    "\n",
    "# TODO: Adjust flag for downloading the dataset.\n",
    "DOWNLOAD = False\n",
    "\n",
    "# TODO: Define path, where figures are to be stored..\n",
    "FIGURE_PATH = \".\""
   ],
   "metadata": {
    "collapsed": false
   },
   "id": "initial_id"
  },
  {
   "cell_type": "markdown",
   "source": [
    "### Fine-tune DINOv2 ViT-S/14 model on the Training Set"
   ],
   "metadata": {
    "collapsed": false
   },
   "id": "7cacaa2fdb6e4f22"
  },
  {
   "cell_type": "code",
   "execution_count": null,
   "outputs": [],
   "source": [
    "seed_everything(0, workers=True)\n",
    "\n",
    "# Image transformations of DinoV2 models.\n",
    "dino_mean = (0.485, 0.456, 0.406) \n",
    "dino_std = (0.229, 0.224, 0.225) \n",
    "dino_transform = transforms.Compose([ \n",
    "    transforms.Resize(256, interpolation=3), \n",
    "    transforms.CenterCrop(224), transforms.ToTensor(), \n",
    "    transforms.Normalize(dino_mean, dino_std) \n",
    "]) \n",
    "\n",
    "# Load train dataset.\n",
    "train_ds = Dopanim(DATA_PATH, version='train', variant='full', transform=dino_transform, download=DOWNLOAD)\n",
    "\n",
    "# Setup DinoV2 ViT-S/14 architecture.\n",
    "dino_model_name = 'dinov2_vits14'\n",
    "dino_model = torch.hub.load('facebookresearch/dinov2', dino_model_name) \n",
    "model = nn.Sequential(dino_model, nn.Linear(384, 15)) \n",
    "\n",
    "# Setup training.\n",
    "batch_size = 16\n",
    "num_epochs = 10\n",
    "device = 'cuda' \n",
    "train_loader = DataLoader(train_ds, batch_size=batch_size, num_workers=8, shuffle=True) \n",
    "criterion = nn.CrossEntropyLoss() \n",
    "params = [{'params': model[0].parameters(), 'lr': 1e-5}, {'params': model[1].parameters(), 'lr': 1e-3}] \n",
    "optimizer = torch.optim.RAdam(params, lr=1e-3, weight_decay=0) \n",
    "lr_scheduler = torch.optim.lr_scheduler.CosineAnnealingLR(optimizer, T_max=num_epochs)\n",
    "\n",
    "# Train model.\n",
    "torch.set_grad_enabled(True) \n",
    "model.to(device) \n",
    "for i in tqdm(range(num_epochs)):\n",
    "    running_loss = 0\n",
    "    for batch in train_loader: \n",
    "        inputs, targets = batch[\"x\"], batch[\"y\"] \n",
    "        logits = model(inputs.to(device)) \n",
    "        loss = criterion(logits, targets.to(device)) \n",
    "\n",
    "        optimizer.zero_grad() \n",
    "        loss.backward()\n",
    "        optimizer.step()\n",
    "        running_loss += loss.item()\n",
    "    print(running_loss)\n",
    "    lr_scheduler.step()"
   ],
   "metadata": {
    "collapsed": false
   },
   "id": "a9aea2f9f0cd209f"
  },
  {
   "cell_type": "markdown",
   "source": [
    "### Evaluate Fine-tuned ViT-S/14 model on the Validation Set"
   ],
   "metadata": {
    "collapsed": false
   },
   "id": "ef1f9492613c6c89"
  },
  {
   "cell_type": "code",
   "execution_count": null,
   "outputs": [],
   "source": [
    "# Load validation dataset.\n",
    "val_ds = Dopanim(DATA_PATH, version='valid', transform=dino_transform, download=DOWNLOAD)\n",
    "val_loader = DataLoader(val_ds, batch_size=64, num_workers=8)\n",
    "\n",
    "# Evaluation on validation dataset.\n",
    "torch.set_grad_enabled(False)\n",
    "logits_list = []\n",
    "targets_list = []\n",
    "model.to(device) \n",
    "for batch in tqdm(val_loader): \n",
    "    inputs, targets = batch[\"x\"], batch[\"y\"] \n",
    "    logits = model(inputs.to(device)) \n",
    "    logits_list.append(logits.cpu())\n",
    "    targets_list.append(targets.cpu())\n",
    "logits = torch.cat(logits_list)\n",
    "targets = torch.cat(targets_list)\n",
    "print(f\"Validation accuracy: {torch.mean((logits.argmax(-1) == targets).float())}\")"
   ],
   "metadata": {
    "collapsed": false
   },
   "id": "9923eaa8074dad90"
  },
  {
   "cell_type": "markdown",
   "source": [
    "### Load Features Learned by the Fine-tuned ViT-S/14 model' Penultimate's Layer"
   ],
   "metadata": {
    "collapsed": false
   },
   "id": "63723544afe9b4bf"
  },
  {
   "cell_type": "code",
   "execution_count": null,
   "outputs": [],
   "source": [
    "features_list = []\n",
    "targets_list = []\n",
    "torch.set_grad_enabled(False)\n",
    "dino_model.to(device)\n",
    "for batch in val_loader:\n",
    "    inputs, targets = batch[\"x\"], batch[\"y\"]\n",
    "    features = dino_model(inputs.to(device))\n",
    "    features_list.append(features.cpu())\n",
    "    targets_list.append(targets)\n",
    "features = torch.cat(features_list)\n",
    "targets = torch.cat(targets_list)"
   ],
   "metadata": {
    "collapsed": false
   },
   "id": "ad46cdf07a2443ca"
  },
  {
   "cell_type": "markdown",
   "source": [
    "### Visualize Learned Features using $t$-SNE"
   ],
   "metadata": {
    "collapsed": false
   },
   "id": "8e1c72df288121f3"
  },
  {
   "cell_type": "code",
   "execution_count": null,
   "outputs": [],
   "source": [
    "tsne = TSNE(random_state=42)\n",
    "X = tsne.fit_transform(features.numpy())\n",
    "y = val_ds.le.inverse_transform(targets)\n",
    "\n",
    "# Class groups\n",
    "classes = {\n",
    "    \"Squirrels\": ['American Red Squirrel', 'Douglas\\' Squirrel', 'Eurasian Red Squirrel'],\n",
    "    \"Hares & Rabbits\": ['Black-tailed Jackrabbit', 'Brown Hare', 'Desert Cottontail', 'European Rabbit', 'Marsh Rabbit'],\n",
    "    \"Insects\": ['European Hornet', 'European Paper Wasp', 'German Yellowjacket', 'Yellow-legged Hornet'],\n",
    "    \"Big Cats\": ['Cheetah', 'Jaguar', 'Leopard']\n",
    "}\n",
    "\n",
    "# Define markers\n",
    "group_markers = {\n",
    "    \"Squirrels\": 'o',\n",
    "    \"Hares & Rabbits\": 's',\n",
    "    \"Insects\": '^',\n",
    "    \"Big Cats\": 'D'\n",
    "}\n",
    "\n",
    "# Define colors\n",
    "color_palette = [\"#008080ff\", \"#800080ff\", \"#2a7fffff\", \"#e580ffff\", \"#5fd3bcff\"]\n",
    "\n",
    "# Generate a color for each class within each group\n",
    "class_colors = {}\n",
    "color_index = 0\n",
    "for group, members in classes.items():\n",
    "    for member in members:\n",
    "        class_colors[member] = to_rgba(color_palette[color_index % len(color_palette)])\n",
    "        color_index += 1\n",
    "\n",
    "# Plotting\n",
    "plt.figure(figsize=(12, 8))\n",
    "\n",
    "for group, members in classes.items():\n",
    "    for member in members:\n",
    "        idx = np.where(y == member)\n",
    "        plt.scatter(X[idx, 0], X[idx, 1], c=[class_colors[member]], label=member, marker=group_markers[group], s=50)\n",
    "\n",
    "# Legend\n",
    "handles, labels = plt.gca().get_legend_handles_labels()\n",
    "by_label = dict(zip(labels, handles))\n",
    "plt.legend(by_label.values(), by_label.keys(), bbox_to_anchor=(1.05, 1), loc='upper left')\n",
    "\n",
    "plt.xlabel('Feature 1')\n",
    "plt.ylabel('Feature 2')\n",
    "plt.title('Scatter plot with different shapes and colors for each class')\n",
    "plt.savefig(os.path.join(FIGURE_PATH, \"tsne.pdf\"))\n",
    "plt.show()"
   ],
   "metadata": {
    "collapsed": false
   },
   "id": "a54d549caf634ec"
  }
 ],
 "metadata": {
  "kernelspec": {
   "display_name": "Python 3",
   "language": "python",
   "name": "python3"
  },
  "language_info": {
   "codemirror_mode": {
    "name": "ipython",
    "version": 2
   },
   "file_extension": ".py",
   "mimetype": "text/x-python",
   "name": "python",
   "nbconvert_exporter": "python",
   "pygments_lexer": "ipython2",
   "version": "2.7.6"
  }
 },
 "nbformat": 4,
 "nbformat_minor": 5
}
