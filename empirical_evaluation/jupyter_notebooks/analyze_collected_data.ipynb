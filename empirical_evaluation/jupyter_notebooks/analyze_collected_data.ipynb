{
 "cells": [
  {
   "cell_type": "code",
   "execution_count": null,
   "id": "initial_id",
   "metadata": {
    "collapsed": true
   },
   "outputs": [],
   "source": [
    "import sys\n",
    "\n",
    "# TODO: Append the path to your `multi-annotator-machine-learning` project.\n",
    "sys.path.append(\"../../\")\n",
    "\n",
    "from skactiveml.utils import ExtLabelEncoder\n",
    "from maml.data import Dopanim\n",
    "from maml.utils import (\n",
    "    plot_annotation_calibration_curves,\n",
    "    plot_annotation_times_histograms,\n",
    "    plot_annotation_confusion_matrices,\n",
    "    plot_annotator_metadata_correlation,\n",
    ")\n",
    "\n",
    "# TODO: Adjust data path to your dataset.\n",
    "DATA_PATH = \".\"\n",
    "\n",
    "# TODO: Adjust flag for downloading the dataset.\n",
    "DOWNLOAD = False\n",
    "\n",
    "# TODO: Adjust path for saving figures.\n",
    "FIGURE_PATH = \".\""
   ]
  },
  {
   "cell_type": "markdown",
   "source": [
    "### Load Data"
   ],
   "metadata": {
    "collapsed": false
   },
   "id": "c7e9b53481128098"
  },
  {
   "cell_type": "code",
   "execution_count": null,
   "outputs": [],
   "source": [
    "train_ds = Dopanim(DATA_PATH, version='train', variant='full', download=DOWNLOAD)\n",
    "y_true, observation_ids = train_ds.load_true_class_labels()\n",
    "le = ExtLabelEncoder(missing_label=None).fit(y_true)\n",
    "y_true_enc = le.transform(y_true)\n",
    "annotation_inconsistencies = train_ds.load_annotation_consistencies(\n",
    "    observation_ids=observation_ids, annotators=train_ds.annotators\n",
    ")\n",
    "annotation_times = train_ds.load_annotation_times(\n",
    "    observation_ids=observation_ids,\n",
    "    annotators=train_ds.annotators,\n",
    ")\n",
    "likelihoods = train_ds.load_likelihoods(\n",
    "    observation_ids=observation_ids,\n",
    "    annotators=train_ds.annotators,\n",
    "    classes=le.classes_,\n",
    "    normalize=True,\n",
    ")\n",
    "annotator_metadata, annotator_feature_names = train_ds.load_annotator_metadata(\n",
    "    annotators=train_ds.annotators, classes=train_ds.classes\n",
    ")"
   ],
   "metadata": {
    "collapsed": false
   },
   "id": "1578979f1fb334e1"
  },
  {
   "cell_type": "markdown",
   "source": [
    "### Plot Calibration Curves"
   ],
   "metadata": {
    "collapsed": false
   },
   "id": "271243dfa9eea1db"
  },
  {
   "cell_type": "code",
   "execution_count": null,
   "outputs": [],
   "source": [
    "plot_annotation_calibration_curves(\n",
    "    likelihoods=likelihoods, y_true=y_true, classes=train_ds.classes, n_bins=10, path=FIGURE_PATH,\n",
    ")"
   ],
   "metadata": {
    "collapsed": false
   },
   "id": "7ac3c593f14feb75"
  },
  {
   "cell_type": "markdown",
   "source": [
    "### Plot Annotation Times"
   ],
   "metadata": {
    "collapsed": false
   },
   "id": "85e7b2762c895918"
  },
  {
   "cell_type": "code",
   "execution_count": null,
   "outputs": [],
   "source": [
    "plot_annotation_times_histograms(times=annotation_times, n_bins=50, path=FIGURE_PATH)"
   ],
   "metadata": {
    "collapsed": false
   },
   "id": "37ded0cfa7aed113"
  },
  {
   "cell_type": "markdown",
   "source": [
    "### Plot Confusion Matrices"
   ],
   "metadata": {
    "collapsed": false
   },
   "id": "4045c0867d7888fa"
  },
  {
   "cell_type": "code",
   "execution_count": null,
   "outputs": [],
   "source": [
    "cm_all = plot_annotation_confusion_matrices(\n",
    "    likelihoods=likelihoods,\n",
    "    classes=train_ds.classes,\n",
    "    y_true=y_true,\n",
    "    path=FIGURE_PATH,\n",
    ")"
   ],
   "metadata": {
    "collapsed": false
   },
   "id": "2b4be97848b14ab1"
  },
  {
   "cell_type": "code",
   "execution_count": null,
   "outputs": [],
   "source": [
    "print(annotator_feature_names)\n",
    "sub_indices = [12, 13, 4, 3, 9, 0]\n",
    "annotator_feature_names_sub = annotator_feature_names[sub_indices]\n",
    "annotator_metadata_sub = annotator_metadata[:, sub_indices]\n",
    "plot_annotator_metadata_correlation(\n",
    "    annotator_metadata=annotator_metadata_sub,\n",
    "    annotator_feature_names=annotator_feature_names_sub,\n",
    "    cm_all=cm_all,\n",
    "    path=FIGURE_PATH,\n",
    ")"
   ],
   "metadata": {
    "collapsed": false
   },
   "id": "a12ce0dac9fa0a3d"
  }
 ],
 "metadata": {
  "kernelspec": {
   "display_name": "Python 3",
   "language": "python",
   "name": "python3"
  },
  "language_info": {
   "codemirror_mode": {
    "name": "ipython",
    "version": 2
   },
   "file_extension": ".py",
   "mimetype": "text/x-python",
   "name": "python",
   "nbconvert_exporter": "python",
   "pygments_lexer": "ipython2",
   "version": "2.7.6"
  }
 },
 "nbformat": 4,
 "nbformat_minor": 5
}
